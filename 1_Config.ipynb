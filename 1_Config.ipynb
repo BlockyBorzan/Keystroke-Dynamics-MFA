{
 "cells": [
  {
   "cell_type": "code",
   "execution_count": 2,
   "id": "ce3e869e-dfbf-4f3e-9610-77d231b64c5c",
   "metadata": {},
   "outputs": [],
   "source": [
    "%run \"./0_Init.ipynb\""
   ]
  },
  {
   "cell_type": "markdown",
   "id": "2dd74c97-7fbc-42bf-b030-e0c6e350790d",
   "metadata": {},
   "source": [
    "### Multiprocessing Config"
   ]
  },
  {
   "cell_type": "code",
   "execution_count": 4,
   "id": "ef3eec76-f2df-4223-98d0-d1a34f1f19e5",
   "metadata": {},
   "outputs": [],
   "source": [
    "#CPU_COUNT = mproc.cpu_count()\n",
    "#tf.config.threading.set_intra_op_parallelism_threads=CPU_COUNT\n",
    "#tf.config.threading.set_inter_op_parallelism_threads=CPU_COUNT"
   ]
  },
  {
   "cell_type": "markdown",
   "id": "4f4f0ba1",
   "metadata": {},
   "source": [
    "### General Config"
   ]
  },
  {
   "cell_type": "code",
   "execution_count": 3,
   "id": "f429af90",
   "metadata": {},
   "outputs": [],
   "source": [
    "TARGET_CLASS_USER_ID = 999\n",
    "TARGET_CLASS = 1\n",
    "NOT_TARGET_CLASS = 0\n",
    "\n",
    "RANDOM_STATE = 160295\n",
    "\n",
    "TEST_TRAIN_RATIO = 0.20\n",
    "CROSS_VALIDATION_SPLIT = 5\n",
    "\n",
    "# Plot Config\n",
    "DISPLAY_OUTPUT = False\n",
    "DISPLAY_PLOTS = True\n",
    "SAVE_PLOTS = False\n",
    "TRANSPARENT_BACKGROUND = False\n",
    "\n",
    "PLOT_COLORS = [(6.0/255, 154.0/255, 243.0/255), (255.0/255, 71.0/255, 76.0/255)]\n",
    "PREC_REC_PLOT_COLORS = {\n",
    "    'precision': (0.0/255, 127.0/255, 255.0/255),\n",
    "    'recall': (92.0/255, 5.0/255, 52.0/255),\n",
    "    'precision_recall': (70.0/255, 65.0/255, 150.0/255),\n",
    "    'roc': (143.0/255, 20.0/255, 2.0/255)\n",
    "}\n",
    "\n",
    "KEY_COL_PATTERN = '(^key\\d+$)'\n",
    "DURATION_COL_PATTERN = '(^d\\d+$)'\n",
    "PP_COL_PATTERN = '^pp\\d+$'\n",
    "PR_COL_PATTERN = '^pr\\d+$'\n",
    "RP_COL_PATTERN = '^rp\\d+$'\n",
    "RR_COL_PATTERN = '^rr\\d+$'\n",
    "TIME_COL_PATTERN = '(^total_time$)'\n",
    "\n",
    "\n",
    "CLASS_COL = 'userId'\n",
    "\n",
    "DROP_COL_PATTERNS = ['|'.join([KEY_COL_PATTERN, DURATION_COL_PATTERN, TIME_COL_PATTERN]), \n",
    "                     '|'.join([KEY_COL_PATTERN, DURATION_COL_PATTERN]), \n",
    "                     '|'.join([KEY_COL_PATTERN, TIME_COL_PATTERN]), # seems to perform the best\n",
    "                     '|'.join([KEY_COL_PATTERN])]\n",
    "\n",
    "CLASS_CATEGORIES = ['positive class', 'negative class']"
   ]
  },
  {
   "cell_type": "code",
   "execution_count": 4,
   "id": "83761d94-1803-4df0-b20e-9cd6601f9d1b",
   "metadata": {},
   "outputs": [],
   "source": [
    "OPTIMIZERS = [\n",
    "    'Adagrad',\n",
    "    'RMSprop',       \n",
    "    'Ftrl',\n",
    "    'Adadelta', \n",
    "    \n",
    "    'Adam', \n",
    "    'Lion',\n",
    "    'AdamW', \n",
    "    'Adamax', \n",
    "    'Nadam',\n",
    "    'SGD', \n",
    "]\n",
    "\n",
    "LOSS_FUNCTIONS = [\n",
    "    'BinaryCrossentropy',\n",
    "    'WeightedBinaryCrossentropy',\n",
    "    'Hinge',\n",
    "    \n",
    "    'MeanSquaredError', \n",
    "    'MeanSquaredLogarithmicError',\n",
    "    'MeanAbsoluteError',\n",
    "    'MeanAbsolutePercentageError',\n",
    "    'CosineSimilarity',\n",
    "    'Huber',\n",
    "    'Poisson',\n",
    "]"
   ]
  },
  {
   "cell_type": "markdown",
   "id": "0fe4da06-7d30-4d6a-aabd-1c81512935be",
   "metadata": {},
   "source": [
    "### Specific Data Config"
   ]
  },
  {
   "cell_type": "code",
   "execution_count": 5,
   "id": "671adb2e-7478-4a51-9efd-5550cd994015",
   "metadata": {},
   "outputs": [],
   "source": [
    "# Input Data Selection\n",
    "DATA = GREYC_DATA  # one of [GREYC_DATA, TRUSTNO1_DATA, PASSWORD_DATA, MUST4NG_DATA]\n",
    "DATA_PASSWORD = 'greyc laboratory'\n",
    "TARGET_CLASS_USER_ID = 999 # random.choice(list(DATA['userId'].unique())), #1001, None\n",
    "CLASS_CATEGORIES = []#['positive class', 'negative class'] # [], ['positive class', 'negative class']\n",
    "PLOT_TYPE = 'line' #'datapoints', 'violin', 'overlap', 'line'\n",
    "\n",
    "# Model Training Config\n",
    "multi_class_data = DATA.copy(deep=True)\n",
    "binary_class_data = DATA.copy(deep=True)\n",
    "\n",
    "positive_class_id = TARGET_CLASS_USER_ID\n",
    "positive_class = TARGET_CLASS\n",
    "negative_class = NOT_TARGET_CLASS\n",
    "\n",
    "binary_class_data.loc[binary_class_data[CLASS_COL] != positive_class_id, [CLASS_COL]] = negative_class\n",
    "binary_class_data.loc[binary_class_data[CLASS_COL] == positive_class_id, [CLASS_COL]] = positive_class\n",
    "\n",
    "drop_columns_pattern = DROP_COL_PATTERNS[2]\n",
    "\n",
    "cols_re= re.compile(drop_columns_pattern) # only drop total time and keys\n",
    "keys_re = re.compile(KEY_COL_PATTERN)\n",
    "DATA_COLS = [col for col in DATA.columns.values if col != CLASS_COL and not cols_re.match(col)]\n",
    "IGNORED_COLS = [col for col in DATA.columns.values if col != CLASS_COL and cols_re.match(col)]\n",
    "KEY_COLS = [col for col in DATA.columns.values if keys_re.match(col)]\n",
    "\n",
    "random_state = random.randrange(1000000000) # number (42, 160295) or random.randrange(1000000000)\n",
    "feature_count = DATA[DATA_COLS].values.shape[1]\n",
    "\n",
    "positive_class_data = binary_class_data[binary_class_data[CLASS_COL] == positive_class]\n",
    "negative_class_data = binary_class_data[binary_class_data[CLASS_COL] == negative_class]"
   ]
  },
  {
   "cell_type": "raw",
   "id": "274adf77-2788-4933-9661-8cf2e3d9a81e",
   "metadata": {},
   "source": [
    "from numpy import *\n",
    "import math\n",
    "import matplotlib.pyplot as plt\n",
    "\n",
    "def fun_tanh(x): \n",
    "    x = float64(x)\n",
    "    return ((exp(x)-exp(-x))/(exp(x)+exp(-x)) + 1)/2\n",
    "\n",
    "def fun_sigmoid(x): \n",
    "    x = float64(x)\n",
    "    return 1.0/(exp(-x)+1.0)\n",
    "\n",
    "X = linspace(-5.0, 5.0, 400)\n",
    "fun_tanhX = [fun_tanh(x) for x in X]\n",
    "fun_sigmoidX = [fun_sigmoid(x) for x in X]\n",
    "\n",
    "\n",
    "_, ax = plt.subplots()\n",
    "\n",
    "ax.plot(X, fun_tanhX, 'r', label='rect. tanh') # plotting t, a separately \n",
    "ax.plot(X, fun_sigmoidX, 'b', label='logistic') # plotting t, b separately \n",
    "ax.plot(X, [1 for x in X], 'grey', linestyle='dashed') # plotting t, b separately \n",
    "ax.plot(X, [0 for x in X], 'grey', linestyle='dashed') # plotting t, b separately \n",
    "ax.axvline(0, 0, 1, c='grey', linestyle='dotted')\n",
    "\n",
    "ax.legend()\n",
    "\n",
    "ax.set_xlabel('x')\n",
    "\n",
    "plt.show()"
   ]
  },
  {
   "cell_type": "code",
   "execution_count": null,
   "id": "3b723775-6a95-4ff4-a38f-3f51134f0d11",
   "metadata": {},
   "outputs": [],
   "source": []
  }
 ],
 "metadata": {
  "kernelspec": {
   "display_name": "Python 3 (ipykernel)",
   "language": "python",
   "name": "python3"
  },
  "language_info": {
   "codemirror_mode": {
    "name": "ipython",
    "version": 3
   },
   "file_extension": ".py",
   "mimetype": "text/x-python",
   "name": "python",
   "nbconvert_exporter": "python",
   "pygments_lexer": "ipython3",
   "version": "3.11.5"
  }
 },
 "nbformat": 4,
 "nbformat_minor": 5
}
