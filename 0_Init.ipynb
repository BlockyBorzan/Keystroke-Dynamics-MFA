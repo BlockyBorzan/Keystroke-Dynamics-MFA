{
 "cells": [
  {
   "cell_type": "markdown",
   "id": "de11bd02-da41-45ae-b278-6a7a450ece0b",
   "metadata": {},
   "source": [
    "# Setup"
   ]
  },
  {
   "cell_type": "code",
   "execution_count": 1,
   "id": "8cbdaf7c-8325-4c77-8d0c-c711fb4a7090",
   "metadata": {},
   "outputs": [],
   "source": [
    "import os\n",
    "import time\n",
    "import copy\n",
    "import random\n",
    "import datetime\n",
    "import math\n",
    "import re\n",
    "import warnings\n",
    "import importlib\n",
    "import asyncio\n",
    "import types\n",
    "import csv\n",
    "import gc\n",
    "\n",
    "import multiprocess as mproc\n",
    "import tensorflow as tf\n",
    "import pandas as pd\n",
    "import numpy as np\n",
    "import seaborn as sns\n",
    "\n",
    "import matplotlib.pyplot as plt\n",
    "import matplotlib.gridspec as gridspec\n",
    "import matplotlib.colors as mcolors\n",
    "import matplotlib.cm as cm\n",
    "from matplotlib.lines import Line2D\n",
    "\n",
    "from sklearn.base import BaseEstimator, clone\n",
    "\n",
    "from sklearn.model_selection import StratifiedKFold, cross_val_score, cross_val_predict, train_test_split\n",
    "from sklearn.metrics import precision_score, recall_score, accuracy_score, f1_score, precision_recall_fscore_support, precision_recall_curve, roc_curve, roc_auc_score, mean_absolute_error, mean_squared_error, r2_score\n",
    "from sklearn.metrics.pairwise import cosine_similarity\n",
    "from sklearn.linear_model import SGDClassifier, PassiveAggressiveClassifier, Perceptron, RidgeClassifierCV\n",
    "from sklearn.neighbors import KNeighborsClassifier, NearestCentroid\n",
    "from sklearn.ensemble import RandomForestClassifier, AdaBoostClassifier, BaggingClassifier, GradientBoostingClassifier\n",
    "from sklearn.svm import SVC\n",
    "from sklearn.gaussian_process import GaussianProcessClassifier\n",
    "from sklearn.neural_network import MLPClassifier\n",
    "from sklearn.naive_bayes import GaussianNB, CategoricalNB\n",
    "from sklearn.calibration import CalibratedClassifierCV\n",
    "from sklearn.semi_supervised import LabelPropagation, LabelSpreading\n",
    "from sklearn.multiclass import OneVsOneClassifier, OneVsRestClassifier\n",
    "from sklearn.discriminant_analysis import QuadraticDiscriminantAnalysis\n",
    "from sklearn.preprocessing import PowerTransformer\n",
    "\n",
    "\n",
    "from tensorflow.keras.optimizers import *\n",
    "from tensorflow.keras.optimizers.experimental import *\n",
    "from tensorflow.keras.metrics import *\n",
    "from tensorflow.keras.models import load_model\n",
    "from sklearn.model_selection import KFold\n",
    "from tensorflow.keras.losses import Loss\n",
    "\n",
    "\n",
    "from scipy import spatial\n",
    "from functools import partial\n",
    "\n",
    "from IPython.display import display, Markdown, Latex, HTML\n",
    "\n",
    "from keras import backend as K\n",
    "\n",
    "from PIL import Image"
   ]
  },
  {
   "cell_type": "markdown",
   "id": "025ff676-a806-440a-b32c-86c864c85914",
   "metadata": {},
   "source": [
    "# Fetch Data"
   ]
  },
  {
   "cell_type": "code",
   "execution_count": 3,
   "id": "330ea582-3b22-4182-9c9f-28d63f28d161",
   "metadata": {},
   "outputs": [],
   "source": [
    "ENTRY_FEATURES_PATH = os.path.join(\"datasets\", \"typing\", \"entry-features\")\n",
    "\n",
    "TYPING_DATA_PATH = os.path.join(ENTRY_FEATURES_PATH, \"typing_data.csv\")\n",
    "TRUSTNO1_DATA_PATH = os.path.join(ENTRY_FEATURES_PATH, \"trustno1-imitation.csv\")\n",
    "PASSWORD_DATA_PATH = os.path.join(ENTRY_FEATURES_PATH, \"password.csv\")\n",
    "MUST4NG_DATA_PATH = os.path.join(ENTRY_FEATURES_PATH, \"must4ng.csv\")\n",
    "\n",
    "RAW_TYPING_DATA = pd.read_csv(TYPING_DATA_PATH, delimiter=\"; \", decimal='.', engine='python')\n",
    "RAW_TRUSTNO1_DATA = pd.read_csv(TRUSTNO1_DATA_PATH, delimiter=\"; \", decimal='.', engine='python')\n",
    "RAW_PASSWORD_DATA = pd.read_csv(PASSWORD_DATA_PATH, delimiter=\"; \", decimal='.', engine='python')\n",
    "RAW_MUST4NG_DATA = pd.read_csv(MUST4NG_DATA_PATH, delimiter=\"; \", decimal='.', engine='python')\n",
    "\n",
    "GREYC_DATA = RAW_TYPING_DATA.copy(deep=True)\n",
    "TRUSTNO1_DATA = RAW_TRUSTNO1_DATA.copy(deep=True)\n",
    "PASSWORD_DATA = RAW_PASSWORD_DATA.copy(deep=True)\n",
    "MUST4NG_DATA = RAW_MUST4NG_DATA.copy(deep=True)"
   ]
  },
  {
   "cell_type": "code",
   "execution_count": null,
   "id": "29cab5d7-ea4f-447d-bdda-a61ce235d7d6",
   "metadata": {},
   "outputs": [],
   "source": []
  }
 ],
 "metadata": {
  "kernelspec": {
   "display_name": "Python 3 (ipykernel)",
   "language": "python",
   "name": "python3"
  },
  "language_info": {
   "codemirror_mode": {
    "name": "ipython",
    "version": 3
   },
   "file_extension": ".py",
   "mimetype": "text/x-python",
   "name": "python",
   "nbconvert_exporter": "python",
   "pygments_lexer": "ipython3",
   "version": "3.11.5"
  }
 },
 "nbformat": 4,
 "nbformat_minor": 5
}
