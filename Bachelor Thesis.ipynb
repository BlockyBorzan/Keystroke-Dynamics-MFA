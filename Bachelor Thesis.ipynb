{
 "cells": [
  {
   "cell_type": "code",
   "execution_count": null,
   "id": "749bf13e-3eea-4304-8ce1-1d6a11d3c7be",
   "metadata": {},
   "outputs": [],
   "source": [
    "%run \"./2_Methods.ipynb\""
   ]
  },
  {
   "cell_type": "code",
   "execution_count": null,
   "id": "33b35971-fde0-406d-a4a0-7d50fd032bee",
   "metadata": {},
   "outputs": [],
   "source": [
    "print(f'Configured user-id: {TARGET_CLASS_USER_ID}')\n",
    "print(f'Configured password: {DATA_PASSWORD}')\n",
    "print(f'Positive class data: {positive_class_data.shape[0]} samples with {feature_count} features')"
   ]
  },
  {
   "cell_type": "markdown",
   "id": "f331f9f7-1535-477f-974f-92e7ae3d62b2",
   "metadata": {
    "jp-MarkdownHeadingCollapsed": true
   },
   "source": [
    "# Data Analysis"
   ]
  },
  {
   "cell_type": "markdown",
   "id": "b8c3aa8f-12cc-42ae-bc8d-ccd3b2b6751c",
   "metadata": {
    "jp-MarkdownHeadingCollapsed": true
   },
   "source": [
    "### Min/Max Visualization"
   ]
  },
  {
   "cell_type": "code",
   "execution_count": null,
   "id": "8576bb10-5bb6-425b-ac87-e61389aaac89",
   "metadata": {},
   "outputs": [],
   "source": [
    "data_values = multi_class_data[DATA_COLS].values\n",
    "\n",
    "max_dataframe = create_dataframe([np.max(data_values, axis=0)], 'max', DATA_COLS)\n",
    "mean_dataframe = create_dataframe([np.mean(data_values, axis=0)], 'mean', DATA_COLS)\n",
    "min_dataframe = create_dataframe([np.min(data_values, axis=0)], 'min', DATA_COLS)\n",
    "\n",
    "combined_dataframe = pd.concat([max_dataframe, mean_dataframe, min_dataframe], ignore_index=True)\n",
    "for key_col in KEY_COLS:\n",
    "    combined_dataframe[key_col] = pd.to_numeric(DATA[key_col][0], downcast='unsigned')\n",
    "\n",
    "plot_pp_data(combined_dataframe, DATA_PASSWORD, \n",
    "    target_category=None,\n",
    "    plot_type='line', #'datapoints', 'violin', 'overlap', 'line'\n",
    "    trim_outliers=True,\n",
    "    display=True,\n",
    "    save=False\n",
    ")"
   ]
  },
  {
   "cell_type": "markdown",
   "id": "7c385fc5-2108-4e3d-90cd-3ce7461f0c3b",
   "metadata": {},
   "source": [
    "### Sample Data Visualization"
   ]
  },
  {
   "cell_type": "code",
   "execution_count": null,
   "id": "1c427559-18b8-48a1-99a1-7a765b2b3d0f",
   "metadata": {},
   "outputs": [],
   "source": [
    "samples = multi_class_data[DATA_COLS].values[np.random.choice(len(multi_class_data), 20, replace=False)]\n",
    "sample_dataframes = [create_dataframe([sample], f'sample-{idx}', DATA_COLS) for idx, sample in enumerate(samples)]\n",
    "\n",
    "means = np.mean(samples, axis=0)\n",
    "mean_dataframe = create_dataframe([means], 'mean', DATA_COLS)\n",
    "\n",
    "combined_dataframe = pd.concat([*sample_dataframes, mean_dataframe], ignore_index=True)\n",
    "for key_col in KEY_COLS:\n",
    "    combined_dataframe[key_col] = pd.to_numeric(DATA[key_col][0], downcast='unsigned')\n",
    "\n",
    "plot_pp_data(combined_dataframe, DATA_PASSWORD, \n",
    "    target_category=None,\n",
    "    plot_type='line', #'datapoints', 'violin', 'overlap', 'line'\n",
    "    trim_outliers=True,\n",
    "    display=True,\n",
    "    save=False\n",
    ")"
   ]
  },
  {
   "cell_type": "markdown",
   "id": "d3d1b6da-61f6-486d-b03a-1ea7c57c1e0f",
   "metadata": {
    "jp-MarkdownHeadingCollapsed": true
   },
   "source": [
    "### Plot Input Data"
   ]
  },
  {
   "cell_type": "code",
   "execution_count": null,
   "id": "3828de72-c71f-4ba7-b9e5-8ea2fd0e8278",
   "metadata": {},
   "outputs": [],
   "source": [
    "%matplotlib inline\n",
    "\n",
    "# for graph visualization purposes, comment out for computations:\n",
    "binary_class_data.loc[binary_class_data[CLASS_COL] != positive_class, [CLASS_COL]] = 'negative'\n",
    "binary_class_data.loc[binary_class_data[CLASS_COL] == positive_class, [CLASS_COL]] = 'positive'\n",
    "\n",
    "plot_d_data(binary_class_data, DATA_PASSWORD, \n",
    "              plot_type=PLOT_TYPE, #'datapoints', 'violin', 'overlap', 'line'\n",
    "              class_categories=['positive', 'negative'],\n",
    "              target_category=None, \n",
    "              trim_outliers=True,\n",
    "              display=True,\n",
    "              width=12, height=6,\n",
    "              save=False\n",
    "         )\n",
    "plot_pp_data(binary_class_data, DATA_PASSWORD, \n",
    "              plot_type=PLOT_TYPE, #'datapoints', 'violin', 'overlap', 'line'\n",
    "              class_categories=['positive', 'negative'],\n",
    "              target_category=None,\n",
    "              trim_outliers=True,\n",
    "              display=True,\n",
    "              save=False\n",
    "         )\n",
    "plot_pr_data(binary_class_data, DATA_PASSWORD, \n",
    "              plot_type=PLOT_TYPE, #'datapoints', 'violin', 'overlap', 'line'\n",
    "              class_categories=['positive', 'negative'],\n",
    "              target_category=None, \n",
    "              trim_outliers=True,\n",
    "              display=True,\n",
    "              width=12, height=6,\n",
    "              save=False\n",
    "         )\n",
    "plot_rp_data(binary_class_data, DATA_PASSWORD, \n",
    "              plot_type=PLOT_TYPE, #'datapoints', 'violin', 'overlap', 'line'\n",
    "              class_categories=['positive', 'negative'],\n",
    "              target_category=None,\n",
    "              trim_outliers=True,\n",
    "              display=True,\n",
    "              width=12, height=6,\n",
    "              save=False\n",
    "         )\n",
    "plot_rr_data(binary_class_data, DATA_PASSWORD, \n",
    "              plot_type=PLOT_TYPE, #'datapoints', 'violin', 'overlap', 'line'\n",
    "              class_categories=['positive', 'negative'],\n",
    "              target_category=None,\n",
    "              trim_outliers=True,\n",
    "              display=True,\n",
    "              width=12, height=6,\n",
    "              save=False\n",
    "         )"
   ]
  },
  {
   "cell_type": "markdown",
   "id": "01f2a7f1-7959-4942-906c-37e65052403d",
   "metadata": {},
   "source": [
    "# Data Augmentation"
   ]
  },
  {
   "cell_type": "code",
   "execution_count": null,
   "id": "570829d4-72f4-4c8c-8ff0-cec718d879b9",
   "metadata": {},
   "outputs": [],
   "source": [
    "# Broken down into steps for visualization purposes, \n",
    "# actual generation for classification input data happens in the Autoencoder class\n",
    "positive = positive_class_data[DATA_COLS].values\n",
    "(normalized, maxima, minima) = normalize(positive)\n",
    "generated_similar = synthesize_normal(normalized, 500)\n",
    "denormalized = denormalize(generated_similar, maxima, minima) # = augmented\n",
    "generated_dissimilar = synthesize_dissimilar(positive, 5000)\n",
    "true_negative = negative_class_data[DATA_COLS].values\n",
    "\n",
    "positive_dataframe = create_dataframe(positive, 'positive', DATA_COLS)\n",
    "normalized_dataframe = create_dataframe(normalized, 'normalized', DATA_COLS)\n",
    "generated_similar_dataframe = create_dataframe(generated_similar, 'similar (generated)', DATA_COLS)\n",
    "denormalized_dataframe = create_dataframe(denormalized, 'denormalized (augmented)', DATA_COLS)\n",
    "augmented_dataframe = create_dataframe(denormalized, 'augmented', DATA_COLS)\n",
    "generated_dissimilar_dataframe = create_dataframe(generated_dissimilar, 'dissimilar (generated)', DATA_COLS)\n",
    "true_negative_dataframe = create_dataframe(true_negative, 'negative', DATA_COLS)"
   ]
  },
  {
   "cell_type": "markdown",
   "id": "c7336e54-ddbd-47b9-aacd-7efc5294aa4e",
   "metadata": {},
   "source": [
    "#### POSITIVE class vs NEGATIVE class: "
   ]
  },
  {
   "cell_type": "code",
   "execution_count": null,
   "id": "246399e9-33c4-4226-a8f9-f7100e2a8c25",
   "metadata": {},
   "outputs": [],
   "source": [
    "combined_dataframe = pd.concat([positive_dataframe, true_negative_dataframe], ignore_index=True)\n",
    "for key_col in KEY_COLS:\n",
    "    combined_dataframe[key_col] = pd.to_numeric(DATA[key_col][0], downcast='unsigned')\n",
    "\n",
    "plot_pp_data(combined_dataframe, DATA_PASSWORD, \n",
    "    class_categories=['positive', 'negative'],\n",
    "    target_category=None,\n",
    "    plot_type='line', #'datapoints', 'violin', 'overlap', 'line'\n",
    "    trim_outliers=True,\n",
    "    display=True,\n",
    "    save=False\n",
    ")"
   ]
  },
  {
   "cell_type": "markdown",
   "id": "fa8b915f-28d3-491a-94e0-7809f2306241",
   "metadata": {},
   "source": [
    "#### NORMALIZATION step:"
   ]
  },
  {
   "cell_type": "code",
   "execution_count": null,
   "id": "fca289b6-a02f-479a-95df-d13ba5ddf0a9",
   "metadata": {},
   "outputs": [],
   "source": [
    "combined_dataframe = pd.concat([positive_dataframe, normalized_dataframe], ignore_index=True)\n",
    "for key_col in KEY_COLS:\n",
    "    combined_dataframe[key_col] = pd.to_numeric(DATA[key_col][0], downcast='unsigned')\n",
    "\n",
    "plot_pp_data(combined_dataframe, DATA_PASSWORD, \n",
    "    class_categories=['positive', 'normalized'],\n",
    "    target_category=None,\n",
    "    plot_type='line', #'datapoints', 'violin', 'overlap', 'line'\n",
    "    trim_outliers=True,\n",
    "    display=True,\n",
    "    save=False\n",
    ")"
   ]
  },
  {
   "cell_type": "markdown",
   "id": "0e02956f-3c47-4ac2-956b-b1afbc71524e",
   "metadata": {},
   "source": [
    "#### AUGMENTATION step (similar data generation):"
   ]
  },
  {
   "cell_type": "code",
   "execution_count": null,
   "id": "09236854-1650-4fbd-9f28-3ef106b3c078",
   "metadata": {},
   "outputs": [],
   "source": [
    "combined_dataframe = pd.concat([normalized_dataframe, generated_similar_dataframe], ignore_index=True)\n",
    "for key_col in KEY_COLS:\n",
    "    combined_dataframe[key_col] = pd.to_numeric(DATA[key_col][0], downcast='unsigned')\n",
    "\n",
    "plot_pp_data(combined_dataframe, DATA_PASSWORD, \n",
    "    class_categories=['normalized', 'similar (generated)'],\n",
    "    target_category=None,\n",
    "    plot_type='line', #'datapoints', 'violin', 'overlap', 'line'\n",
    "    trim_outliers=True,\n",
    "    display=True,\n",
    "    save=False\n",
    ")"
   ]
  },
  {
   "cell_type": "markdown",
   "id": "5eaffd6f-6a58-4f25-98af-f1e9e6d35876",
   "metadata": {},
   "source": [
    "#### DENORMALIZATION step (transforming augmented data to look like positive class):"
   ]
  },
  {
   "cell_type": "code",
   "execution_count": null,
   "id": "5367b990-6e17-427e-967c-f31202ef3007",
   "metadata": {},
   "outputs": [],
   "source": [
    "combined_dataframe = pd.concat([positive_dataframe, denormalized_dataframe], ignore_index=True)\n",
    "for key_col in KEY_COLS:\n",
    "    combined_dataframe[key_col] = pd.to_numeric(DATA[key_col][0], downcast='unsigned')\n",
    "\n",
    "plot_pp_data(combined_dataframe, DATA_PASSWORD, \n",
    "    class_categories=['positive', 'denormalized (augmented)'],\n",
    "    target_category=None,\n",
    "    plot_type='line', #'datapoints', 'violin', 'overlap', 'line'\n",
    "    trim_outliers=True,\n",
    "    display=True,\n",
    "    save=False\n",
    ")"
   ]
  },
  {
   "cell_type": "markdown",
   "id": "ef463566-9b9d-45b8-976b-34e01c00ff66",
   "metadata": {},
   "source": [
    "#### GENERATING NEGATIVE data (dissimilar data generation):"
   ]
  },
  {
   "cell_type": "code",
   "execution_count": null,
   "id": "7c5c9aa1-336f-42e7-984a-8f674563b39a",
   "metadata": {},
   "outputs": [],
   "source": [
    "combined_dataframe = pd.concat([augmented_dataframe, generated_dissimilar_dataframe], ignore_index=True)\n",
    "for key_col in KEY_COLS:\n",
    "    combined_dataframe[key_col] = pd.to_numeric(DATA[key_col][0], downcast='unsigned')\n",
    "\n",
    "plot_pp_data(combined_dataframe, DATA_PASSWORD, \n",
    "    class_categories=['augmented', 'dissimilar (generated)'],\n",
    "    target_category=None,\n",
    "    plot_type='line', #'datapoints', 'violin', 'overlap', 'line'\n",
    "    trim_outliers=True,\n",
    "    display=True,\n",
    "    save=False\n",
    ")"
   ]
  },
  {
   "cell_type": "markdown",
   "id": "6575ef98-7fba-4ee5-9845-37404395bd81",
   "metadata": {},
   "source": [
    "#### POSITIVE vs GENERATED DISSIMILAR vs NEGATIVE classes:"
   ]
  },
  {
   "cell_type": "code",
   "execution_count": null,
   "id": "d7f5c6b5-923a-40ff-951a-b59ada30ed94",
   "metadata": {},
   "outputs": [],
   "source": [
    "combined_dataframe = pd.concat([positive_dataframe, generated_dissimilar_dataframe, true_negative_dataframe], ignore_index=True)\n",
    "for key_col in KEY_COLS:\n",
    "    combined_dataframe[key_col] = pd.to_numeric(DATA[key_col][0], downcast='unsigned')\n",
    "    \n",
    "plot_pp_data(combined_dataframe, DATA_PASSWORD, \n",
    "    class_categories=['positive', 'dissimilar (generated)', 'negative'],\n",
    "    target_category=None,\n",
    "    plot_type='line', #'datapoints', 'violin', 'overlap', 'line'\n",
    "    trim_outliers=True,\n",
    "    display=True,\n",
    "    save=False\n",
    ")"
   ]
  },
  {
   "cell_type": "markdown",
   "id": "b9ba0b2b-159f-40e8-a622-ee06ec4e37de",
   "metadata": {},
   "source": [
    "# Autoencoder Evaluation"
   ]
  },
  {
   "cell_type": "code",
   "execution_count": null,
   "id": "b320c1cd-f407-4dce-9307-6f16f827aa22",
   "metadata": {},
   "outputs": [],
   "source": [
    "%run \"./3_Autoencoder.ipynb\""
   ]
  },
  {
   "cell_type": "code",
   "execution_count": null,
   "id": "4aac2481-6b28-4e6a-b72f-7c7362a512f4",
   "metadata": {},
   "outputs": [],
   "source": [
    "X = positive_class_data[DATA_COLS].values\n",
    "N = negative_class_data[DATA_COLS].values"
   ]
  },
  {
   "cell_type": "code",
   "execution_count": null,
   "id": "c88ba920-cde6-4459-8c11-547a8105007a",
   "metadata": {},
   "outputs": [],
   "source": [
    "# Hyperparameter evaluation code moved to 3_Autoencoder.ipynb\n",
    "\n",
    "# Evaluating autoencoders and writing to .csv file for analysis\n",
    "# find_autoencoder_hyperparameters(X, DATA_PASSWORD, direct_to_file=True)"
   ]
  },
  {
   "cell_type": "markdown",
   "id": "b77a9404-b1d6-470d-a6b2-20dc731ed4ea",
   "metadata": {},
   "source": [
    "### Evaluating Best Performing Autoencoders:"
   ]
  },
  {
   "cell_type": "code",
   "execution_count": null,
   "id": "0b7fd414-9590-41a2-bd66-23caa517662c",
   "metadata": {},
   "outputs": [],
   "source": [
    "def plot_autoencoder_training_results(autoencoders, n=3):\n",
    "    for ae in autoencoders[:n]:\n",
    "        ae.print_evaluation(show_history=True, verbose=True)  \n",
    "        pred_positive = ae.predict(X[np.random.choice(len(X), 100, replace=False)])\n",
    "        pred_negative = ae.predict(N[np.random.choice(len(N), 100, replace=False)])\n",
    "    \n",
    "        ae_pos = ae.generate_positive(1000)\n",
    "        ae_neg = ae.generate_negative(1000)\n",
    "        \n",
    "        ae_positive_dataframe = create_dataframe(ae_pos, 'ae positive', DATA_COLS)\n",
    "        ae_negative_dataframe = create_dataframe(ae_neg, 'ae negative', DATA_COLS)\n",
    "        pred_positive_dataframe = create_dataframe(pred_positive, 'pred positive', DATA_COLS)\n",
    "        pred_negative_dataframe = create_dataframe(pred_negative, 'pred negative', DATA_COLS)\n",
    "    \n",
    "        combined_dataframe = pd.concat([ae_positive_dataframe, ae_negative_dataframe, pred_positive_dataframe, pred_negative_dataframe], ignore_index=True)\n",
    "        for key_col in KEY_COLS:\n",
    "            combined_dataframe[key_col] = pd.to_numeric(DATA[key_col][0], downcast='unsigned')\n",
    "        \n",
    "        plot_pp_data(combined_dataframe, DATA_PASSWORD, \n",
    "            class_categories=['ae positive', 'ae negative', 'pred positive', 'pred negative'],\n",
    "            target_category=None,\n",
    "            plot_type='line', #'datapoints', 'violin', 'overlap', 'line'\n",
    "            trim_outliers=True,\n",
    "            display=True,\n",
    "            save=False\n",
    "        )\n",
    "        print('---'*20)"
   ]
  },
  {
   "cell_type": "code",
   "execution_count": null,
   "id": "3f36bea3-dbf6-4c37-aa2d-6cbee37f9bbc",
   "metadata": {
    "scrolled": true
   },
   "outputs": [],
   "source": [
    "reset_random_state(RANDOM_STATE)\n",
    "\n",
    "X_train, X_test, _, _ = train_test_split(X, X, test_size=0.2, shuffle=True, random_state=random_state)\n",
    "\n",
    "adagrad_autoencoders = find_autoencoder_hyperparameters(X_train, DATA_PASSWORD, optimizers=['Adagrad'])  \n",
    "rms_autoencoders = find_autoencoder_hyperparameters(X_train, DATA_PASSWORD, optimizers=['RMSprop'])  "
   ]
  },
  {
   "cell_type": "code",
   "execution_count": null,
   "id": "8f497650-333e-4021-abf1-6b6a01e7a6b3",
   "metadata": {},
   "outputs": [],
   "source": [
    "adagrad_aes = [autoencoder for _, autoencoder in [(eval, ae) for eval, ae in zip(adagrad_autoencoders[0], adagrad_autoencoders[1])] if (autoencoder.euclidean_dist_delta) > 0]\n",
    "adagrad_aes = sorted(adagrad_aes, key=lambda ae: ae.euclidean_dist_ratio, reverse=True)\n",
    "\n",
    "rmsprop_aes = [autoencoder for _, autoencoder in [(eval, ae) for eval, ae in zip(rms_autoencoders[0], rms_autoencoders[1])] if (autoencoder.euclidean_dist_delta) > 0]\n",
    "rmsprop_aes = sorted(rmsprop_aes, key=lambda ae: ae.euclidean_dist_ratio, reverse=True)\n",
    "\n",
    "#plot_autoencoder_training_results(adagrad_aes)\n",
    "#plot_autoencoder_training_results(rmsprop_aes)"
   ]
  },
  {
   "cell_type": "code",
   "execution_count": null,
   "id": "2860bd5d-a3a6-4ea7-b925-c6139c3dcf29",
   "metadata": {
    "scrolled": true
   },
   "outputs": [],
   "source": [
    "adagrad_best_ae = adagrad_aes[0]\n",
    "adagrad_best_ae.print_evaluation(show_history=True, verbose=True)  \n",
    "\n",
    "rmsprop_best_ae = rmsprop_aes[0]\n",
    "rmsprop_best_ae.print_evaluation(show_history=True, verbose=True)  "
   ]
  },
  {
   "cell_type": "markdown",
   "id": "19a9f39b-630a-47ca-a5d9-4e222343838c",
   "metadata": {},
   "source": [
    "### Selection of Promising Autoencoders:"
   ]
  },
  {
   "cell_type": "markdown",
   "id": "655aade1",
   "metadata": {},
   "source": [
    "# Classifier Evaluation"
   ]
  },
  {
   "cell_type": "code",
   "execution_count": null,
   "id": "74c2b614-2889-4285-9617-f1006aa0ef77",
   "metadata": {
    "scrolled": true
   },
   "outputs": [],
   "source": [
    "%run \"./4_Classifier.ipynb\""
   ]
  },
  {
   "cell_type": "code",
   "execution_count": null,
   "id": "ca182255-1cd6-4b17-af1c-19e62e1a1801",
   "metadata": {},
   "outputs": [],
   "source": [
    "# Hyperparameter evaluation code moved to 4_Classifier.ipynb\n",
    "# find_classifier_hyperparameters(autoencoders[:10], direct_to_file=True)\n",
    "# find_classifier_hyperparameters([adagrad_best_ae, rmsprop_best_ae], direct_to_file=True)"
   ]
  },
  {
   "cell_type": "markdown",
   "id": "22fba1a4-e861-4f54-960f-2e4885e2e379",
   "metadata": {},
   "source": [
    "### Best Classifier Found"
   ]
  },
  {
   "cell_type": "code",
   "execution_count": null,
   "id": "f06a1a7c-a51d-477e-bb9b-df12915e2919",
   "metadata": {
    "scrolled": true
   },
   "outputs": [],
   "source": [
    "reset_random_state(RANDOM_STATE)\n",
    "\n",
    "TANH_BETA = 0.0\n",
    "classifier = Classifier(rmsprop_best_ae, 'Adadelta', 0.045, 'Huber', epochs=800,\n",
    "                        early_stopping_patience=50, cross_validation_split=1, optimizer_kwargs={'weight_decay': 0.0005}) \n",
    "classifier.print_evaluation(show_history=True)\n",
    "print('Evaluation with unseen, real typing data: ')\n",
    "positive_test_data = create_dataframe(X_test, positive_class, DATA_COLS)\n",
    "evaluate_authentication(classifier, positive_test_data, negative_class_data)\n",
    "print('---'*20)"
   ]
  },
  {
   "cell_type": "markdown",
   "id": "2cc1e713-8613-4b49-9251-e212289cd431",
   "metadata": {},
   "source": [
    "### Analizing False Positive Data"
   ]
  },
  {
   "cell_type": "code",
   "execution_count": null,
   "id": "6bfb4cc2-1e70-4f84-98f0-e982fcfa21c0",
   "metadata": {},
   "outputs": [],
   "source": [
    "from collections import Counter\n",
    "\n",
    "pred_positive_probabilities = flatten(classifier.predict(X_test))\n",
    "pred_negative_probabilities = flatten(classifier.predict(N))\n",
    "\n",
    "pred_positive = [round(elem) for elem in pred_positive_probabilities]\n",
    "pred_negative = [round(elem) for elem in pred_negative_probabilities]\n",
    "\n",
    "true_positive = [feature for feature, prediction in zip(X_test, pred_positive) if prediction == 1]\n",
    "false_negative = [feature for feature, prediction in zip(X_test, pred_positive) if prediction == 0]\n",
    "true_negative = [feature for feature, prediction in zip(N, pred_negative) if prediction == 0]\n",
    "false_positive = [feature for feature, prediction in zip(N, pred_negative) if prediction == 1]\n",
    "\n",
    "print(f'True Positives: {len(true_positive)}/{len(X_test)}')\n",
    "print(f'False Negatives: {len(false_negative)}/{len(X_test)}')\n",
    "print(f'True Negatives: {len(true_negative)}/{len(N)}')\n",
    "print(f'False Positives: {len(false_positive)}/{len(N)}')\n",
    "\n",
    "true_positive_proba = [probability for probability, prediction in zip(pred_positive_probabilities, pred_positive) if prediction == 1]\n",
    "false_negative_proba = [probability for probability, prediction in zip(pred_positive_probabilities, pred_positive) if prediction == 0]\n",
    "true_negative_proba = [probability for probability, prediction in zip(pred_negative_probabilities, pred_negative) if prediction == 0]\n",
    "false_positive_proba = [probability for probability, prediction in zip(pred_negative_probabilities, pred_negative) if prediction == 1]\n",
    "\n",
    "print(f'Average prediction probability of True Positives: {np.mean(true_positive_proba)}')\n",
    "print(f'Average prediction probability of False Positives: {np.mean(false_positive_proba)}')\n",
    "print(f'Average prediction probability of True Negatives: {np.mean(true_negative_proba)}')\n",
    "print(f'Average prediction probability of False Negatives: {np.mean(false_negative_proba)}')\n",
    "\n",
    "false_positive_users = [user_id for user_id, prediction in zip(multi_class_data[multi_class_data[CLASS_COL] != positive_class_id][CLASS_COL].values, pred_negative) if prediction == 1]\n",
    "false_positive_user_counts = Counter(false_positive_users)\n",
    "\n",
    "print(f'False positive users: {len(set(false_positive_users))}')\n",
    "print('User   |   Count')\n",
    "print('----------------')\n",
    "for userid, count in sorted(false_positive_user_counts.items()):\n",
    "    if count > 10:\n",
    "        print(f'{userid:7} {count:5}')\n",
    "\n",
    "\n",
    "false_positive_dataframe = create_dataframe(false_positive, 'false positive', DATA_COLS)\n",
    "true_positive_dataframe = create_dataframe(positive, 'true positive', DATA_COLS)\n",
    "combined_dataframe = pd.concat([true_positive_dataframe, false_positive_dataframe], ignore_index=True)\n",
    "for key_col in KEY_COLS:\n",
    "    combined_dataframe[key_col] = pd.to_numeric(DATA[key_col][0], downcast='unsigned')\n",
    "\n",
    "plot_pp_data(combined_dataframe, DATA_PASSWORD, \n",
    "    class_categories=['true positive', 'false positive'],\n",
    "    target_category=None,\n",
    "    plot_type='line', #'datapoints', 'violin', 'overlap', 'line'\n",
    "    trim_outliers=True,\n",
    "    display=True,\n",
    "    save=False\n",
    ")"
   ]
  },
  {
   "cell_type": "code",
   "execution_count": null,
   "id": "0b9711a3-b8bb-404a-ba2a-e2f3b98e0300",
   "metadata": {},
   "outputs": [],
   "source": []
  }
 ],
 "metadata": {
  "kernelspec": {
   "display_name": "Python 3 (ipykernel)",
   "language": "python",
   "name": "python3"
  },
  "language_info": {
   "codemirror_mode": {
    "name": "ipython",
    "version": 3
   },
   "file_extension": ".py",
   "mimetype": "text/x-python",
   "name": "python",
   "nbconvert_exporter": "python",
   "pygments_lexer": "ipython3",
   "version": "3.11.5"
  }
 },
 "nbformat": 4,
 "nbformat_minor": 5
}
